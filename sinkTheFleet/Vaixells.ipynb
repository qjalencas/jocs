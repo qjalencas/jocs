{
 "cells": [
  {
   "cell_type": "code",
   "execution_count": 9,
   "id": "eb1f5fa4-6665-4182-9715-7da9c2aa0af9",
   "metadata": {},
   "outputs": [],
   "source": [
    "import random"
   ]
  },
  {
   "cell_type": "code",
   "execution_count": 3,
   "id": "65fe0db2-cabe-4732-9428-a2c2effad2a5",
   "metadata": {
    "tags": []
   },
   "outputs": [
    {
     "data": {
      "text/plain": [
       "[['W', 'W', 'W', 'W', 'W'],\n",
       " ['W', 'W', 'W', 'W', 'W'],\n",
       " ['W', 'W', 'W', 'W', 'W'],\n",
       " ['W', 'W', 'W', 'W', 'W'],\n",
       " ['W', 'W', 'W', 'W', 'W']]"
      ]
     },
     "execution_count": 3,
     "metadata": {},
     "output_type": "execute_result"
    }
   ],
   "source": [
    "def randomBoard(n):\n",
    "    board = []\n",
    "    for i in range(n):\n",
    "        board.append([\"W\"]*n)\n",
    "    return board\n",
    "randomBoard(5)"
   ]
  },
  {
   "cell_type": "code",
   "execution_count": null,
   "id": "474b0a98-81db-4056-a77c-6c0a437e5c5e",
   "metadata": {},
   "outputs": [],
   "source": [
    " ships = {2: 1, 3: 2, 4: 1, 5: 1}"
   ]
  },
  {
   "cell_type": "code",
   "execution_count": 4,
   "id": "c9f10977-e39f-4392-bac0-cf7684fc82a4",
   "metadata": {},
   "outputs": [
    {
     "ename": "IndentationError",
     "evalue": "expected an indented block after function definition on line 1 (3808483170.py, line 4)",
     "output_type": "error",
     "traceback": [
      "\u001b[0;36m  Cell \u001b[0;32mIn[4], line 4\u001b[0;36m\u001b[0m\n\u001b[0;31m    placeShips(randomBoard(5), ships)\u001b[0m\n\u001b[0m    ^\u001b[0m\n\u001b[0;31mIndentationError\u001b[0m\u001b[0;31m:\u001b[0m expected an indented block after function definition on line 1\n"
     ]
    }
   ],
   "source": [
    "def placeShips(board, ships):\n",
    "    i = random.randint(0, len(board))\n",
    "    \n",
    "placeShips(randomBoard(5), ships)"
   ]
  },
  {
   "cell_type": "code",
   "execution_count": 383,
   "id": "38e281ee-0f63-4216-91cd-61b0752271e3",
   "metadata": {},
   "outputs": [
    {
     "name": "stdout",
     "output_type": "stream",
     "text": [
      "0 0\n",
      "0\n"
     ]
    },
    {
     "data": {
      "text/plain": [
       "[['S', 'W', 'W', 'W', 'W', 'W'],\n",
       " ['S', 'W', 'W', 'W', 'W', 'W'],\n",
       " ['S', 'W', 'W', 'W', 'W', 'W'],\n",
       " ['S', 'W', 'W', 'W', 'W', 'W'],\n",
       " ['S', 'W', 'W', 'W', 'W', 'W'],\n",
       " ['W', 'W', 'W', 'W', 'W', 'W']]"
      ]
     },
     "execution_count": 383,
     "metadata": {},
     "output_type": "execute_result"
    }
   ],
   "source": [
    "def placeShip(board, ship):\n",
    "    i = random.randint(0, len(board) - 1)\n",
    "    j = random.randint(0, len(board) - 1)\n",
    "    horitzontal = random.randint(0, 1)\n",
    "    print(i, j)\n",
    "    print(horitzontal)\n",
    "    if horitzontal == 1:\n",
    "        if len(board) - j >= ship:\n",
    "            for k in range(ship):\n",
    "                board[i][j] = \"S\"\n",
    "                j += 1\n",
    "            return board\n",
    "    else:\n",
    "        if len(board) - i >= ship:\n",
    "            for k in range(ship):\n",
    "                board[i][j] = \"S\"\n",
    "                i += 1\n",
    "            return board\n",
    "placeShip(randomBoard(6), 5)"
   ]
  },
  {
   "cell_type": "code",
   "execution_count": 144,
   "id": "8378c506-4aef-4052-add2-62910d73a58a",
   "metadata": {},
   "outputs": [
    {
     "name": "stdout",
     "output_type": "stream",
     "text": [
      "0\n",
      "1\n"
     ]
    }
   ],
   "source": [
    "ship = 2\n",
    "for k in range(ship):\n",
    "    print(k)"
   ]
  }
 ],
 "metadata": {
  "kernelspec": {
   "display_name": "Python 3 (ipykernel)",
   "language": "python",
   "name": "python3"
  },
  "language_info": {
   "codemirror_mode": {
    "name": "ipython",
    "version": 3
   },
   "file_extension": ".py",
   "mimetype": "text/x-python",
   "name": "python",
   "nbconvert_exporter": "python",
   "pygments_lexer": "ipython3",
   "version": "3.10.9"
  }
 },
 "nbformat": 4,
 "nbformat_minor": 5
}
