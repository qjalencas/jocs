{
 "cells": [
  {
   "cell_type": "code",
   "execution_count": 51,
   "id": "4ca1401b-1905-41c4-a2ce-4ade53467679",
   "metadata": {},
   "outputs": [],
   "source": [
    "import random"
   ]
  },
  {
   "cell_type": "code",
   "execution_count": 52,
   "id": "eb5bfbd4-3ac1-4291-9055-eff6ad335a53",
   "metadata": {},
   "outputs": [],
   "source": [
    "\n",
    "panel = \"Tantos coches y ninguno te atropella\""
   ]
  },
  {
   "cell_type": "code",
   "execution_count": 172,
   "id": "f501ecae-9cbd-48cd-b685-5b06ccc398cb",
   "metadata": {},
   "outputs": [
    {
     "data": {
      "text/plain": [
       "'------ ------ - ------- -- ---------'"
      ]
     },
     "execution_count": 172,
     "metadata": {},
     "output_type": "execute_result"
    }
   ],
   "source": [
    "def secretPanel(p):\n",
    "    result = \"\"\n",
    "    for i in p:\n",
    "        if i == \" \":\n",
    "            result += i\n",
    "        else:\n",
    "            result += \"-\"\n",
    "    return result\n",
    "\n",
    "secretPanel(panel)\n",
    "    "
   ]
  },
  {
   "cell_type": "code",
   "execution_count": 54,
   "id": "c93c4add-fec2-426e-8cd2-fc6ab8c3abbe",
   "metadata": {},
   "outputs": [
    {
     "data": {
      "text/plain": [
       "True"
      ]
     },
     "execution_count": 54,
     "metadata": {},
     "output_type": "execute_result"
    }
   ],
   "source": [
    "def containsLetter(p,c):\n",
    "    return c in p\n",
    "containsLetter(panel, \"t\")"
   ]
  },
  {
   "cell_type": "code",
   "execution_count": 55,
   "id": "27fb794a-d9d4-437d-87c7-470eaa1e60c8",
   "metadata": {},
   "outputs": [
    {
     "data": {
      "text/plain": [
       "'______ ______ _ _______ __ _________'"
      ]
     },
     "execution_count": 55,
     "metadata": {},
     "output_type": "execute_result"
    }
   ],
   "source": [
    "def updateSecretWord(w, sw, c):\n",
    "    swupdated = \"\"\n",
    "    for i in range(0, len(w)):\n",
    "        if c == w[i]:\n",
    "            swupdated += w[i]\n",
    "        else:\n",
    "            swupdated += sw[i]\n",
    "    return swupdated\n",
    "\n",
    "\n",
    "x = updateSecretWord(panel, secretPanel(panel), \"k\")\n",
    "updateSecretWord(panel, x, \"ñ\")\n",
    "\n",
    "    "
   ]
  },
  {
   "cell_type": "code",
   "execution_count": 56,
   "id": "29cd50a8-22d6-42f4-b590-318b7b469b2b",
   "metadata": {
    "tags": []
   },
   "outputs": [
    {
     "name": "stdout",
     "output_type": "stream",
     "text": [
      "2\n"
     ]
    }
   ],
   "source": [
    "def generateNumber():\n",
    "    n = random.randint(0,5)\n",
    "    return n\n",
    "print(generateNumber())"
   ]
  },
  {
   "cell_type": "code",
   "execution_count": 57,
   "id": "3880f49c-7989-4217-b2c0-76ceec350f74",
   "metadata": {},
   "outputs": [
    {
     "name": "stdout",
     "output_type": "stream",
     "text": [
      "0\n"
     ]
    }
   ],
   "source": [
    "def updatePoints(sw, c):\n",
    "    count = 0\n",
    "    for i in sw:\n",
    "        if i == c:\n",
    "            count += 1\n",
    "    return count\n",
    "print(updatePoints(\"h___o\", \"b\"))\n",
    "        "
   ]
  },
  {
   "cell_type": "code",
   "execution_count": 58,
   "id": "45303bc5-82ac-4d1f-a7f8-59ba95aee124",
   "metadata": {},
   "outputs": [
    {
     "name": "stdout",
     "output_type": "stream",
     "text": [
      "True\n"
     ]
    }
   ],
   "source": [
    "def correctPanel(w, sol):\n",
    "    for i in range(0, len(w)):\n",
    "        if w[i] != sol[i]:\n",
    "            return False\n",
    "    return True\n",
    "\n",
    "print(correctPanel(\"hello\", \"hello\"))"
   ]
  },
  {
   "cell_type": "code",
   "execution_count": 59,
   "id": "c5af4402-10cd-42b9-a8a4-39bb0c462114",
   "metadata": {},
   "outputs": [
    {
     "data": {
      "text/plain": [
       "'Les flors decoren els nostres jardins encantats'"
      ]
     },
     "execution_count": 59,
     "metadata": {},
     "output_type": "execute_result"
    }
   ],
   "source": [
    "def choosePanel():\n",
    "    \n",
    "    frases = [\n",
    "        \"El sol brilla sobre la ciutat cada mati\",\n",
    "        \"Un dia de pluja es perfecte per llegir\",\n",
    "        \"Els gats son animals molt misteriosos\",\n",
    "        \"La musica ens acompanya en moments durs\",\n",
    "        \"La natura ens ofereix belleses infinides\",\n",
    "        \"Una bona tassa de te sempre alegra\",\n",
    "        \"Les estrelles brillen amb força a la nit\",\n",
    "        \"El mar tranquil transmet una gran pau\",\n",
    "        \"Les flors decoren els nostres jardins encantats\",\n",
    "        \"Un bon llibre es un viatge sense final\",\n",
    "        \"Les amistats veritables son un tresor\",\n",
    "        \"Els somnis son la clau del nostre futur\",\n",
    "        \"Un viatge llarg es recorda per sempre\",\n",
    "        \"La cuina es un art que ens uneix a tots\",\n",
    "    ]\n",
    "    \n",
    "    return random.choice(frases)\n",
    "\n",
    "choosePanel()\n",
    "\n"
   ]
  },
  {
   "cell_type": "code",
   "execution_count": 168,
   "id": "d4844039-5878-450c-a14a-5827b3bda165",
   "metadata": {},
   "outputs": [
    {
     "data": {
      "text/plain": [
       "'50€'"
      ]
     },
     "execution_count": 168,
     "metadata": {},
     "output_type": "execute_result"
    }
   ],
   "source": [
    "def roulette():\n",
    "    caselles = []\n",
    "    caselles += [\"10€\"] * 10\n",
    "    caselles += [\"50€\"] * 5\n",
    "    caselles += [\"100€\"] * 2\n",
    "    caselles += [\"DUPLICAR\"] * 2\n",
    "    caselles += [\"BANCARROTA\"] * 2\n",
    "    return random.choice(caselles)\n",
    "    \n",
    "roulette()"
   ]
  },
  {
   "cell_type": "code",
   "execution_count": 179,
   "id": "3cfad8a1-4e80-462f-b107-d13c80134ea0",
   "metadata": {},
   "outputs": [
    {
     "name": "stdout",
     "output_type": "stream",
     "text": [
      "-- ----- -- -- --- --- --- ----- - ----\n"
     ]
    },
    {
     "name": "stdin",
     "output_type": "stream",
     "text": [
      "Que fas: resols el panell[P] o tires de la ruleta[R]? r\n"
     ]
    },
    {
     "name": "stdout",
     "output_type": "stream",
     "text": [
      "Ha tocat 10€\n"
     ]
    },
    {
     "name": "stdin",
     "output_type": "stream",
     "text": [
      "Digues una lletra m\n"
     ]
    },
    {
     "name": "stdout",
     "output_type": "stream",
     "text": [
      "\n",
      "-- ----- -- -- --- --- --- ----- - ----\n",
      "\n",
      "N'hi ha 0. Has guanyat 0 €\n",
      "Tens 0 € \n",
      "\n"
     ]
    },
    {
     "name": "stdin",
     "output_type": "stream",
     "text": [
      "Que fas: resols el panell[P] o tires de la ruleta[R]? r\n"
     ]
    },
    {
     "name": "stdout",
     "output_type": "stream",
     "text": [
      "Ha tocat 10€\n"
     ]
    },
    {
     "name": "stdin",
     "output_type": "stream",
     "text": [
      "Digues una lletra a\n"
     ]
    },
    {
     "name": "stdout",
     "output_type": "stream",
     "text": [
      "\n",
      "-A ----A -- -- A-- --- --- ----- A ----\n",
      "\n",
      "N'hi ha 4. Has guanyat 40 €\n",
      "Tens 40 € \n",
      "\n"
     ]
    },
    {
     "name": "stdin",
     "output_type": "stream",
     "text": [
      "Que fas: resols el panell[P] o tires de la ruleta[R]? r\n"
     ]
    },
    {
     "name": "stdout",
     "output_type": "stream",
     "text": [
      "Ha tocat 50€\n"
     ]
    },
    {
     "name": "stdin",
     "output_type": "stream",
     "text": [
      "Digues una lletra e\n"
     ]
    },
    {
     "name": "stdout",
     "output_type": "stream",
     "text": [
      "\n",
      "-A ----A E- -- A-- --E E-- --E-- A ----\n",
      "\n",
      "N'hi ha 4. Has guanyat 200 €\n",
      "Tens 240 € \n",
      "\n"
     ]
    },
    {
     "name": "stdin",
     "output_type": "stream",
     "text": [
      "Que fas: resols el panell[P] o tires de la ruleta[R]? r\n"
     ]
    },
    {
     "name": "stdout",
     "output_type": "stream",
     "text": [
      "Ha tocat BANCARROTA\n",
      "Tens 0 € \n",
      "\n"
     ]
    },
    {
     "name": "stdin",
     "output_type": "stream",
     "text": [
      "Que fas: resols el panell[P] o tires de la ruleta[R]? r\n"
     ]
    },
    {
     "name": "stdout",
     "output_type": "stream",
     "text": [
      "Ha tocat BANCARROTA\n",
      "Tens 0 € \n",
      "\n"
     ]
    },
    {
     "name": "stdin",
     "output_type": "stream",
     "text": [
      "Que fas: resols el panell[P] o tires de la ruleta[R]? r\n"
     ]
    },
    {
     "name": "stdout",
     "output_type": "stream",
     "text": [
      "Ha tocat 50€\n"
     ]
    },
    {
     "name": "stdin",
     "output_type": "stream",
     "text": [
      "Digues una lletra o\n"
     ]
    },
    {
     "name": "stdout",
     "output_type": "stream",
     "text": [
      "\n",
      "-A ----A E- -- A-- --E E-- --E-- A -O--\n",
      "\n",
      "N'hi ha 1. Has guanyat 50 €\n",
      "Tens 50 € \n",
      "\n"
     ]
    },
    {
     "name": "stdin",
     "output_type": "stream",
     "text": [
      "Que fas: resols el panell[P] o tires de la ruleta[R]? r\n"
     ]
    },
    {
     "name": "stdout",
     "output_type": "stream",
     "text": [
      "Ha tocat 10€\n"
     ]
    },
    {
     "name": "stdin",
     "output_type": "stream",
     "text": [
      "Digues una lletra s\n"
     ]
    },
    {
     "name": "stdout",
     "output_type": "stream",
     "text": [
      "\n",
      "-A ----A ES -- A-- --E E-S --E-- A -O-S\n",
      "\n",
      "N'hi ha 3. Has guanyat 30 €\n",
      "Tens 80 € \n",
      "\n"
     ]
    },
    {
     "name": "stdin",
     "output_type": "stream",
     "text": [
      "Que fas: resols el panell[P] o tires de la ruleta[R]? r\n"
     ]
    },
    {
     "name": "stdout",
     "output_type": "stream",
     "text": [
      "Ha tocat BANCARROTA\n",
      "Tens 0 € \n",
      "\n"
     ]
    },
    {
     "name": "stdin",
     "output_type": "stream",
     "text": [
      "Que fas: resols el panell[P] o tires de la ruleta[R]? r\n"
     ]
    },
    {
     "name": "stdout",
     "output_type": "stream",
     "text": [
      "Ha tocat 50€\n"
     ]
    },
    {
     "name": "stdin",
     "output_type": "stream",
     "text": [
      "Digues una lletra l\n"
     ]
    },
    {
     "name": "stdout",
     "output_type": "stream",
     "text": [
      "\n",
      "LA ----A ES -- A-- --E E-S --E-- A -O-S\n",
      "\n",
      "N'hi ha 1. Has guanyat 50 €\n",
      "Tens 50 € \n",
      "\n"
     ]
    },
    {
     "name": "stdin",
     "output_type": "stream",
     "text": [
      "Que fas: resols el panell[P] o tires de la ruleta[R]? r\n"
     ]
    },
    {
     "name": "stdout",
     "output_type": "stream",
     "text": [
      "Ha tocat BANCARROTA\n",
      "Tens 0 € \n",
      "\n"
     ]
    },
    {
     "name": "stdin",
     "output_type": "stream",
     "text": [
      "Que fas: resols el panell[P] o tires de la ruleta[R]? r\n"
     ]
    },
    {
     "name": "stdout",
     "output_type": "stream",
     "text": [
      "Ha tocat 10€\n"
     ]
    },
    {
     "name": "stdin",
     "output_type": "stream",
     "text": [
      "Digues una lletra r\n"
     ]
    },
    {
     "name": "stdout",
     "output_type": "stream",
     "text": [
      "\n",
      "LA ----A ES -- AR- --E E-S --E-- A -O-S\n",
      "\n",
      "N'hi ha 1. Has guanyat 10 €\n",
      "Tens 10 € \n",
      "\n"
     ]
    },
    {
     "name": "stdin",
     "output_type": "stream",
     "text": [
      "Que fas: resols el panell[P] o tires de la ruleta[R]? r\n"
     ]
    },
    {
     "name": "stdout",
     "output_type": "stream",
     "text": [
      "Ha tocat 10€\n"
     ]
    },
    {
     "name": "stdin",
     "output_type": "stream",
     "text": [
      "Digues una lletra p\n"
     ]
    },
    {
     "name": "stdout",
     "output_type": "stream",
     "text": [
      "\n",
      "LA ----A ES -- AR- --E E-S --E-- A -O-S\n",
      "\n",
      "N'hi ha 0. Has guanyat 0 €\n",
      "Tens 10 € \n",
      "\n"
     ]
    },
    {
     "name": "stdin",
     "output_type": "stream",
     "text": [
      "Que fas: resols el panell[P] o tires de la ruleta[R]? r\n"
     ]
    },
    {
     "name": "stdout",
     "output_type": "stream",
     "text": [
      "Ha tocat DUPLICAR\n",
      "Tens 20 € \n",
      "\n"
     ]
    },
    {
     "name": "stdin",
     "output_type": "stream",
     "text": [
      "Que fas: resols el panell[P] o tires de la ruleta[R]? r\n"
     ]
    },
    {
     "name": "stdout",
     "output_type": "stream",
     "text": [
      "Ha tocat 50€\n"
     ]
    },
    {
     "name": "stdin",
     "output_type": "stream",
     "text": [
      "Digues una lletra d\n"
     ]
    },
    {
     "name": "stdout",
     "output_type": "stream",
     "text": [
      "\n",
      "LA ----A ES -- AR- --E E-S --E-- A -O-S\n",
      "\n",
      "N'hi ha 0. Has guanyat 0 €\n",
      "Tens 20 € \n",
      "\n"
     ]
    },
    {
     "name": "stdin",
     "output_type": "stream",
     "text": [
      "Que fas: resols el panell[P] o tires de la ruleta[R]? r\n"
     ]
    },
    {
     "name": "stdout",
     "output_type": "stream",
     "text": [
      "Ha tocat DUPLICAR\n",
      "Tens 40 € \n",
      "\n"
     ]
    },
    {
     "name": "stdin",
     "output_type": "stream",
     "text": [
      "Que fas: resols el panell[P] o tires de la ruleta[R]? r\n"
     ]
    },
    {
     "name": "stdout",
     "output_type": "stream",
     "text": [
      "Ha tocat 100€\n"
     ]
    },
    {
     "name": "stdin",
     "output_type": "stream",
     "text": [
      "Digues una lletra t\n"
     ]
    },
    {
     "name": "stdout",
     "output_type": "stream",
     "text": [
      "\n",
      "LA ----A ES -- ART --E E-S --E-- A TOTS\n",
      "\n",
      "N'hi ha 3. Has guanyat 300 €\n",
      "Tens 340 € \n",
      "\n"
     ]
    },
    {
     "name": "stdin",
     "output_type": "stream",
     "text": [
      "Que fas: resols el panell[P] o tires de la ruleta[R]? i\n"
     ]
    },
    {
     "name": "stdout",
     "output_type": "stream",
     "text": [
      "No pots fer això\n"
     ]
    },
    {
     "name": "stdin",
     "output_type": "stream",
     "text": [
      "Que fas: resols el panell[P] o tires de la ruleta[R]? r\n"
     ]
    },
    {
     "name": "stdout",
     "output_type": "stream",
     "text": [
      "Ha tocat 10€\n"
     ]
    },
    {
     "name": "stdin",
     "output_type": "stream",
     "text": [
      "Digues una lletra i\n"
     ]
    },
    {
     "name": "stdout",
     "output_type": "stream",
     "text": [
      "\n",
      "LA --I-A ES -- ART --E E-S --EI- A TOTS\n",
      "\n",
      "N'hi ha 2. Has guanyat 20 €\n",
      "Tens 360 € \n",
      "\n"
     ]
    },
    {
     "name": "stdin",
     "output_type": "stream",
     "text": [
      "Que fas: resols el panell[P] o tires de la ruleta[R]? r\n"
     ]
    },
    {
     "name": "stdout",
     "output_type": "stream",
     "text": [
      "Ha tocat 10€\n"
     ]
    },
    {
     "name": "stdin",
     "output_type": "stream",
     "text": [
      "Digues una lletra u\n"
     ]
    },
    {
     "name": "stdout",
     "output_type": "stream",
     "text": [
      "\n",
      "LA -UI-A ES U- ART -UE E-S U-EI- A TOTS\n",
      "\n",
      "N'hi ha 4. Has guanyat 40 €\n",
      "Tens 400 € \n",
      "\n"
     ]
    },
    {
     "name": "stdin",
     "output_type": "stream",
     "text": [
      "Que fas: resols el panell[P] o tires de la ruleta[R]? r\n"
     ]
    },
    {
     "name": "stdout",
     "output_type": "stream",
     "text": [
      "Ha tocat 10€\n"
     ]
    },
    {
     "name": "stdin",
     "output_type": "stream",
     "text": [
      "Digues una lletra q\n"
     ]
    },
    {
     "name": "stdout",
     "output_type": "stream",
     "text": [
      "\n",
      "LA -UI-A ES U- ART QUE E-S U-EI- A TOTS\n",
      "\n",
      "N'hi ha 1. Has guanyat 10 €\n",
      "Tens 410 € \n",
      "\n"
     ]
    },
    {
     "name": "stdin",
     "output_type": "stream",
     "text": [
      "Que fas: resols el panell[P] o tires de la ruleta[R]? r\n"
     ]
    },
    {
     "name": "stdout",
     "output_type": "stream",
     "text": [
      "Ha tocat 10€\n"
     ]
    },
    {
     "name": "stdin",
     "output_type": "stream",
     "text": [
      "Digues una lletra n\n"
     ]
    },
    {
     "name": "stdout",
     "output_type": "stream",
     "text": [
      "\n",
      "LA -UINA ES UN ART QUE ENS UNEI- A TOTS\n",
      "\n",
      "N'hi ha 4. Has guanyat 40 €\n",
      "Tens 450 € \n",
      "\n"
     ]
    },
    {
     "name": "stdin",
     "output_type": "stream",
     "text": [
      "Que fas: resols el panell[P] o tires de la ruleta[R]? p\n",
      "Posa la frase:  la cuina es un art que ens uneix a tots\n"
     ]
    },
    {
     "name": "stdout",
     "output_type": "stream",
     "text": [
      "Enhorabona! Has guanyat 450 €\n"
     ]
    },
    {
     "data": {
      "text/plain": [
       "450"
      ]
     },
     "execution_count": 179,
     "metadata": {},
     "output_type": "execute_result"
    }
   ],
   "source": [
    "def startGame():\n",
    "    \n",
    "    # Variable del saldo\n",
    "    saldo = 0\n",
    "    \n",
    "    # Triar la frase\n",
    "    w = choosePanel().upper()\n",
    "    \n",
    "    # Mostrar la frase oculta\n",
    "    sw = secretPanel(w)\n",
    "    print(sw)\n",
    "    while True:\n",
    "        # Escollir accio\n",
    "        accio = None\n",
    "        accio = input(\"Que fas: resols el panell[P] o tires de la ruleta[R]?\")\n",
    "        accio = accio.upper()\n",
    "        while accio not in \"RP\":\n",
    "            print(\"No pots fer això\")\n",
    "            accio = input(\"Que fas: resols el panell[P] o tires de la ruleta[R]?\")\n",
    "            accio = accio.upper()\n",
    "\n",
    "\n",
    "\n",
    "\n",
    "        if accio == \"P\":\n",
    "            sol = input(\"Posa la frase: \").upper()\n",
    "            if w == sol:\n",
    "                print(\"Enhorabona! Has guanyat %d €\" % saldo)\n",
    "                return saldo\n",
    "            else:\n",
    "                print(\"Mala sort! La frase era '%s'. No t'emportes res!\" % w)\n",
    "                return 0\n",
    "\n",
    "        elif accio == \"R\":\n",
    "            # Tirar la ruleta\n",
    "            result = roulette()\n",
    "            print(\"Ha tocat \" + result)\n",
    "\n",
    "            if result in [\"10€\", \"50€\", \"100€\"]:\n",
    "                c = input(\"Digues una lletra\")\n",
    "                c = c.upper()\n",
    "                sw = updateSecretWord(w, sw, c)\n",
    "                print()\n",
    "                print(sw)\n",
    "                print()\n",
    "                count = updatePoints(sw, c)\n",
    "                guanyes = int(result[:-1]) * count\n",
    "                print(\"N'hi ha %d. Has guanyat %d €\" % (count, guanyes))\n",
    "                saldo += guanyes\n",
    "\n",
    "            elif result == \"DUPLICAR\":\n",
    "                saldo = saldo * 2\n",
    "\n",
    "            elif result == \"BANCARROTA\":\n",
    "                saldo = 0\n",
    "\n",
    "            print(\"Tens %d € \" % saldo)\n",
    "            print()\n",
    "           \n",
    "    \n",
    "startGame()"
   ]
  },
  {
   "cell_type": "code",
   "execution_count": null,
   "id": "56cda68f-ca4b-43be-be87-d79abe87fe49",
   "metadata": {},
   "outputs": [],
   "source": []
  },
  {
   "cell_type": "code",
   "execution_count": 139,
   "id": "a3bcc6a9-3069-4573-b02a-aacc408529de",
   "metadata": {},
   "outputs": [
    {
     "data": {
      "text/plain": [
       "'HOLA I ADEU 3.933000 32 34333'"
      ]
     },
     "execution_count": 139,
     "metadata": {},
     "output_type": "execute_result"
    }
   ],
   "source": []
  },
  {
   "cell_type": "code",
   "execution_count": 145,
   "id": "8d8e1c6d-9885-4545-982c-b84f6061acfb",
   "metadata": {},
   "outputs": [
    {
     "data": {
      "text/plain": [
       "23"
      ]
     },
     "execution_count": 145,
     "metadata": {},
     "output_type": "execute_result"
    }
   ],
   "source": []
  }
 ],
 "metadata": {
  "kernelspec": {
   "display_name": "Python 3 (ipykernel)",
   "language": "python",
   "name": "python3"
  },
  "language_info": {
   "codemirror_mode": {
    "name": "ipython",
    "version": 3
   },
   "file_extension": ".py",
   "mimetype": "text/x-python",
   "name": "python",
   "nbconvert_exporter": "python",
   "pygments_lexer": "ipython3",
   "version": "3.10.9"
  }
 },
 "nbformat": 4,
 "nbformat_minor": 5
}
